{
 "cells": [
  {
   "cell_type": "markdown",
   "id": "5ddd397a9c42d824",
   "metadata": {},
   "source": [
    "Implementation of two custering algorithms:\n",
    "- K-means - implementation in kmean.py\n",
    "- DBSCAN - implementations in dbscan_optimized.py \n",
    "\n",
    "Algorithms are shown on Emnist - Mnist dataset\n",
    "\n",
    "https://www.geeksforgeeks.org/k-means-clustering-introduction/ - kmeans\n",
    "\n",
    "https://www.geeksforgeeks.org/dbscan-clustering-in-ml-density-based-clustering/ - dbscan"
   ]
  },
  {
   "cell_type": "code",
   "execution_count": 1,
   "id": "93acc36a",
   "metadata": {},
   "outputs": [],
   "source": [
    "import numpy as np\n",
    "import idx2numpy"
   ]
  },
  {
   "cell_type": "code",
   "execution_count": 2,
   "id": "initial_id",
   "metadata": {
    "ExecuteTime": {
     "end_time": "2025-05-28T19:19:12.423699Z",
     "start_time": "2025-05-28T19:19:11.923522Z"
    },
    "collapsed": true
   },
   "outputs": [],
   "source": [
    "import matplotlib.pyplot as plt\n",
    "from matplotlib.colors import ListedColormap\n",
    "import matplotlib.gridspec as gridspec\n",
    "from mpl_toolkits.axes_grid1 import make_axes_locatable"
   ]
  },
  {
   "cell_type": "code",
   "execution_count": 3,
   "id": "3c151a2a",
   "metadata": {},
   "outputs": [],
   "source": [
    "from collections import Counter\n",
    "import os\n",
    "import colorsys"
   ]
  },
  {
   "cell_type": "code",
   "execution_count": 4,
   "id": "25bb7deb73f712fa",
   "metadata": {
    "ExecuteTime": {
     "end_time": "2025-05-28T19:19:13.249222Z",
     "start_time": "2025-05-28T19:19:12.425038Z"
    }
   },
   "outputs": [],
   "source": [
    "from sklearn.manifold import TSNE\n",
    "from sklearn.preprocessing import MinMaxScaler\n",
    "from sklearn.metrics import confusion_matrix, ConfusionMatrixDisplay, accuracy_score\n",
    "from sklearn.decomposition import PCA"
   ]
  },
  {
   "cell_type": "code",
   "execution_count": 5,
   "id": "5b8a05e0640c4e3e",
   "metadata": {
    "ExecuteTime": {
     "end_time": "2025-05-28T19:19:15.451991Z",
     "start_time": "2025-05-28T19:19:15.446448Z"
    }
   },
   "outputs": [],
   "source": [
    "from helpers import get_labels, make_confusion_matrix, batch_simulation_dbscan \n",
    "from kmeans import KMeans\n",
    "from dbscan_optimized import DBSCAN"
   ]
  },
  {
   "cell_type": "code",
   "execution_count": 6,
   "id": "7615f21fdfb691c8",
   "metadata": {
    "ExecuteTime": {
     "end_time": "2025-05-28T19:19:18.508469Z",
     "start_time": "2025-05-28T19:19:18.479185Z"
    }
   },
   "outputs": [],
   "source": [
    "decompressed_path = '../data'\n",
    "train_images = idx2numpy.convert_from_file(f'{decompressed_path}/emnist-mnist-train-images-idx3-ubyte')\n",
    "train_labels = idx2numpy.convert_from_file(f'{decompressed_path}/emnist-mnist-train-labels-idx1-ubyte')\n",
    "test_images = idx2numpy.convert_from_file(f'{decompressed_path}/emnist-mnist-test-images-idx3-ubyte')\n",
    "test_labels = idx2numpy.convert_from_file(f'{decompressed_path}/emnist-mnist-test-labels-idx1-ubyte')"
   ]
  },
  {
   "cell_type": "code",
   "execution_count": 7,
   "id": "de88575b5483c629",
   "metadata": {
    "ExecuteTime": {
     "end_time": "2025-05-28T19:19:19.147188Z",
     "start_time": "2025-05-28T19:19:19.143051Z"
    }
   },
   "outputs": [
    {
     "name": "stdout",
     "output_type": "stream",
     "text": [
      "train images: 60000\n",
      "train labels: 60000\n",
      "test images: 10000\n",
      "test labels: 10000\n"
     ]
    }
   ],
   "source": [
    "print(f\"train images: {len(train_images)}\")\n",
    "print(f\"train labels: {len(train_labels)}\")\n",
    "print(f\"test images: {len(test_images)}\")\n",
    "print(f\"test labels: {len(test_labels)}\")"
   ]
  },
  {
   "cell_type": "code",
   "execution_count": 8,
   "id": "ed5c10bc37a65a36",
   "metadata": {
    "ExecuteTime": {
     "end_time": "2025-05-28T19:19:19.713671Z",
     "start_time": "2025-05-28T19:19:19.709790Z"
    }
   },
   "outputs": [
    {
     "name": "stdout",
     "output_type": "stream",
     "text": [
      "Shapes:\n",
      "train_images: (60000, 28, 28)\n",
      "train_labels: (60000,)\n",
      "test_images: (10000, 28, 28)\n",
      "test_labels: (10000,)\n"
     ]
    }
   ],
   "source": [
    "print(\"Shapes:\")\n",
    "print(f\"train_images: {train_images.shape}\")\n",
    "print(f\"train_labels: {train_labels.shape}\")\n",
    "print(f\"test_images: {test_images.shape}\")\n",
    "print(f\"test_labels: {test_labels.shape}\")"
   ]
  },
  {
   "cell_type": "code",
   "execution_count": 9,
   "id": "cab9e7ebe088c3b2",
   "metadata": {
    "ExecuteTime": {
     "end_time": "2025-05-28T19:19:20.243439Z",
     "start_time": "2025-05-28T19:19:20.239555Z"
    }
   },
   "outputs": [],
   "source": [
    "train_data = train_images.reshape(-1, 784)\n",
    "test_data = test_images.reshape(-1, 784)"
   ]
  },
  {
   "cell_type": "markdown",
   "id": "d7b78286",
   "metadata": {},
   "source": [
    "Scale into dimensions"
   ]
  },
  {
   "cell_type": "code",
   "execution_count": 10,
   "id": "68cb26cdff70d917",
   "metadata": {
    "ExecuteTime": {
     "end_time": "2025-05-28T19:19:21.692181Z",
     "start_time": "2025-05-28T19:19:21.240890Z"
    }
   },
   "outputs": [],
   "source": [
    "scaler = MinMaxScaler()\n",
    "train_data = scaler.fit_transform(train_data)\n",
    "test_data = scaler.transform(test_data)"
   ]
  },
  {
   "cell_type": "code",
   "execution_count": 11,
   "id": "1bbb8fb563f7912f",
   "metadata": {
    "ExecuteTime": {
     "end_time": "2025-05-28T19:19:21.756401Z",
     "start_time": "2025-05-28T19:19:21.752811Z"
    }
   },
   "outputs": [
    {
     "name": "stdout",
     "output_type": "stream",
     "text": [
      "Shapes:\n",
      "train_images: (60000, 28, 28)\n",
      "train_labels: (60000,)\n",
      "test_images: (10000, 28, 28)\n",
      "test_labels: (10000,)\n"
     ]
    }
   ],
   "source": [
    "print(\"Shapes:\")\n",
    "print(f\"train_images: {train_images.shape}\")\n",
    "print(f\"train_labels: {train_labels.shape}\")\n",
    "print(f\"test_images: {test_images.shape}\")\n",
    "print(f\"test_labels: {test_labels.shape}\")"
   ]
  },
  {
   "cell_type": "markdown",
   "id": "31770e22df3c44ef",
   "metadata": {},
   "source": [
    "Visualize elements from the MNIST dataset"
   ]
  },
  {
   "cell_type": "code",
   "execution_count": 12,
   "id": "63f8dd95124b58e7",
   "metadata": {
    "ExecuteTime": {
     "end_time": "2025-05-28T19:19:24.848313Z",
     "start_time": "2025-05-28T19:19:24.478882Z"
    }
   },
   "outputs": [
    {
     "data": {
      "image/png": "[encoded data removed]",
      "text/plain": [
       "<Figure size 2000x1000 with 10 Axes>"
      ]
     },
     "metadata": {},
     "output_type": "display_data"
    }
   ],
   "source": [
    "n_digits = 10\n",
    "fig, axes = plt.subplots(nrows=1, ncols=n_digits, figsize=(n_digits*2, n_digits))\n",
    "\n",
    "for i in range(n_digits):\n",
    "    rotated_img = np.rot90(train_images[i], k=1)          # rotate 90° CCW\n",
    "    flipped_img = np.flipud(rotated_img)                   # flip upside down\n",
    "    axes[i].imshow(flipped_img, cmap='gray')\n",
    "    axes[i].set_title(f'{train_labels[i]}')\n",
    "    axes[i].axis('off')"
   ]
  },
  {
   "cell_type": "markdown",
   "id": "8e099e03",
   "metadata": {},
   "source": [
    "Display label per type data:"
   ]
  },
  {
   "cell_type": "code",
   "execution_count": 13,
   "id": "ca372977ce50bc27",
   "metadata": {
    "ExecuteTime": {
     "end_time": "2025-05-28T19:19:25.002269Z",
     "start_time": "2025-05-28T19:19:24.989648Z"
    }
   },
   "outputs": [
    {
     "data": {
      "text/plain": [
       "Counter({np.uint8(4): 6000,\n",
       "         np.uint8(1): 6000,\n",
       "         np.uint8(6): 6000,\n",
       "         np.uint8(7): 6000,\n",
       "         np.uint8(8): 6000,\n",
       "         np.uint8(0): 6000,\n",
       "         np.uint8(9): 6000,\n",
       "         np.uint8(5): 6000,\n",
       "         np.uint8(3): 6000,\n",
       "         np.uint8(2): 6000})"
      ]
     },
     "execution_count": 13,
     "metadata": {},
     "output_type": "execute_result"
    }
   ],
   "source": [
    "Counter(train_labels)"
   ]
  },
  {
   "cell_type": "markdown",
   "id": "7c2882886c4f4885",
   "metadata": {},
   "source": [
    "Dataset is balanced"
   ]
  },
  {
   "cell_type": "markdown",
   "id": "63ad6e4e48c529f2",
   "metadata": {},
   "source": [
    "## K-means algorithm"
   ]
  },
  {
   "cell_type": "code",
   "execution_count": 14,
   "id": "77b9f1808cb77056",
   "metadata": {
    "ExecuteTime": {
     "end_time": "2025-05-28T19:19:26.487868Z",
     "start_time": "2025-05-28T19:19:26.484931Z"
    }
   },
   "outputs": [],
   "source": [
    "n_clusters = 20\n",
    "n_iter=5"
   ]
  },
  {
   "cell_type": "code",
   "execution_count": 15,
   "id": "8a3002284130c174",
   "metadata": {
    "ExecuteTime": {
     "end_time": "2025-05-28T19:24:17.540510Z",
     "start_time": "2025-05-28T19:19:27.134822Z"
    }
   },
   "outputs": [
    {
     "name": "stdout",
     "output_type": "stream",
     "text": [
      "fitting...\n",
      "Iteration number: 0/5 of different centroids\n",
      "Initializing centroids...\n",
      "initializing centroid: 1...\n",
      "initializing centroid: 2...\n",
      "initializing centroid: 3...\n",
      "initializing centroid: 4...\n",
      "initializing centroid: 5...\n",
      "initializing centroid: 6...\n",
      "initializing centroid: 7...\n",
      "initializing centroid: 8...\n",
      "initializing centroid: 9...\n",
      "initializing centroid: 10...\n",
      "initializing centroid: 11...\n",
      "initializing centroid: 12...\n",
      "initializing centroid: 13...\n",
      "initializing centroid: 14...\n",
      "initializing centroid: 15...\n",
      "initializing centroid: 16...\n",
      "initializing centroid: 17...\n",
      "initializing centroid: 18...\n",
      "initializing centroid: 19...\n",
      "Iteration number: 1/5 of different centroids\n",
      "Initializing centroids...\n",
      "initializing centroid: 1...\n",
      "initializing centroid: 2...\n",
      "initializing centroid: 3...\n",
      "initializing centroid: 4...\n",
      "initializing centroid: 5...\n",
      "initializing centroid: 6...\n",
      "initializing centroid: 7...\n",
      "initializing centroid: 8...\n",
      "initializing centroid: 9...\n",
      "initializing centroid: 10...\n",
      "initializing centroid: 11...\n",
      "initializing centroid: 12...\n",
      "initializing centroid: 13...\n",
      "initializing centroid: 14...\n",
      "initializing centroid: 15...\n",
      "initializing centroid: 16...\n",
      "initializing centroid: 17...\n",
      "initializing centroid: 18...\n",
      "initializing centroid: 19...\n",
      "Iteration number: 2/5 of different centroids\n",
      "Initializing centroids...\n",
      "initializing centroid: 1...\n",
      "initializing centroid: 2...\n",
      "initializing centroid: 3...\n",
      "initializing centroid: 4...\n",
      "initializing centroid: 5...\n",
      "initializing centroid: 6...\n",
      "initializing centroid: 7...\n",
      "initializing centroid: 8...\n",
      "initializing centroid: 9...\n",
      "initializing centroid: 10...\n",
      "initializing centroid: 11...\n",
      "initializing centroid: 12...\n",
      "initializing centroid: 13...\n",
      "initializing centroid: 14...\n",
      "initializing centroid: 15...\n",
      "initializing centroid: 16...\n",
      "initializing centroid: 17...\n",
      "initializing centroid: 18...\n",
      "initializing centroid: 19...\n",
      "Iteration number: 3/5 of different centroids\n",
      "Initializing centroids...\n",
      "initializing centroid: 1...\n",
      "initializing centroid: 2...\n",
      "initializing centroid: 3...\n",
      "initializing centroid: 4...\n",
      "initializing centroid: 5...\n",
      "initializing centroid: 6...\n",
      "initializing centroid: 7...\n",
      "initializing centroid: 8...\n",
      "initializing centroid: 9...\n",
      "initializing centroid: 10...\n",
      "initializing centroid: 11...\n",
      "initializing centroid: 12...\n",
      "initializing centroid: 13...\n",
      "initializing centroid: 14...\n",
      "initializing centroid: 15...\n",
      "initializing centroid: 16...\n",
      "initializing centroid: 17...\n",
      "initializing centroid: 18...\n",
      "initializing centroid: 19...\n",
      "Iteration number: 4/5 of different centroids\n",
      "Initializing centroids...\n",
      "initializing centroid: 1...\n",
      "initializing centroid: 2...\n",
      "initializing centroid: 3...\n",
      "initializing centroid: 4...\n",
      "initializing centroid: 5...\n",
      "initializing centroid: 6...\n",
      "initializing centroid: 7...\n",
      "initializing centroid: 8...\n",
      "initializing centroid: 9...\n",
      "initializing centroid: 10...\n",
      "initializing centroid: 11...\n",
      "initializing centroid: 12...\n",
      "initializing centroid: 13...\n",
      "initializing centroid: 14...\n",
      "initializing centroid: 15...\n",
      "initializing centroid: 16...\n",
      "initializing centroid: 17...\n",
      "initializing centroid: 18...\n",
      "initializing centroid: 19...\n"
     ]
    }
   ],
   "source": [
    "my_kmeans = KMeans(n_clusters=n_clusters,n_init=n_iter, verbose=1).fit(train_data)"
   ]
  },
  {
   "cell_type": "markdown",
   "id": "4e89b42f243bf177",
   "metadata": {},
   "source": [
    "Check the inertia"
   ]
  },
  {
   "cell_type": "code",
   "execution_count": 16,
   "id": "f6820ef2a144cae",
   "metadata": {
    "ExecuteTime": {
     "end_time": "2025-05-28T19:24:17.547118Z",
     "start_time": "2025-05-28T19:24:17.542127Z"
    }
   },
   "outputs": [
    {
     "name": "stdout",
     "output_type": "stream",
     "text": [
      "2450933.17778572\n"
     ]
    }
   ],
   "source": [
    "print(my_kmeans.inertia)"
   ]
  },
  {
   "cell_type": "markdown",
   "id": "f00ce071",
   "metadata": {},
   "source": [
    "Run Predictions:"
   ]
  },
  {
   "cell_type": "code",
   "execution_count": null,
   "id": "baf07ab647ff85ae",
   "metadata": {
    "ExecuteTime": {
     "end_time": "2025-05-28T19:24:17.562829Z",
     "start_time": "2025-05-28T19:24:17.549128Z"
    }
   },
   "outputs": [
    {
     "ename": "ValueError",
     "evalue": "too many values to unpack (expected 2)",
     "output_type": "error",
     "traceback": [
      "\u001b[31m---------------------------------------------------------------------------\u001b[39m",
      "\u001b[31mValueError\u001b[39m                                Traceback (most recent call last)",
      "\u001b[36mCell\u001b[39m\u001b[36m \u001b[39m\u001b[32mIn[17]\u001b[39m\u001b[32m, line 5\u001b[39m\n\u001b[32m      3\u001b[39m y_pred = np.array([mapping[c] \u001b[38;5;28;01mfor\u001b[39;00m c \u001b[38;5;129;01min\u001b[39;00m test_clusters])\n\u001b[32m      4\u001b[39m y_true = test_labels\n\u001b[32m----> \u001b[39m\u001b[32m5\u001b[39m fig, ax = make_confusion_matrix(y_true, y_pred)\n",
      "\u001b[31mValueError\u001b[39m: too many values to unpack (expected 2)"
     ]
    },
    {
     "data": {
      "image/png": "[encoded data removed]",
      "text/plain": [
       "<Figure size 1000x1200 with 3 Axes>"
      ]
     },
     "metadata": {},
     "output_type": "display_data"
    }
   ],
   "source": [
    "mapping = get_labels(my_kmeans.labels, train_labels)\n",
    "test_clusters = my_kmeans.predict(test_data)\n",
    "y_pred = np.array([mapping[c] for c in test_clusters])\n",
    "y_true = test_labels\n",
    "fig, _, ax = make_confusion_matrix(y_true, y_pred)"
   ]
  },
  {
   "cell_type": "markdown",
   "id": "e2d79cf2",
   "metadata": {},
   "source": [
    "Plot the centroids"
   ]
  },
  {
   "cell_type": "code",
   "execution_count": null,
   "id": "eefb1c78102a256f",
   "metadata": {
    "ExecuteTime": {
     "end_time": "2025-05-28T19:24:18.467703Z",
     "start_time": "2025-05-28T19:24:18.464479Z"
    }
   },
   "outputs": [],
   "source": [
    "centroids = my_kmeans.centroids"
   ]
  },
  {
   "cell_type": "code",
   "execution_count": null,
   "id": "341ef77343f19713",
   "metadata": {
    "ExecuteTime": {
     "end_time": "2025-05-28T19:24:18.923584Z",
     "start_time": "2025-05-28T19:24:18.468710Z"
    }
   },
   "outputs": [],
   "source": [
    "fig, axes = plt.subplots(1, n_clusters, figsize=(30,10))\n",
    "for c in range(n_clusters):\n",
    "    centroid_img = centroids[c].reshape(28, 28)\n",
    "    rotated_img = np.rot90(centroid_img, k=1)   # rotate 90° CCW\n",
    "    flipped_img = np.flipud(rotated_img)        # flip vertically\n",
    "    axes[c].imshow(flipped_img, cmap='gray')\n",
    "    axes[c].set_title(f\"C:{c} | N:{mapping[c]}\")\n",
    "    axes[c].axis('off')\n",
    "plt.show()"
   ]
  },
  {
   "cell_type": "markdown",
   "id": "d6a622e34b72f1b0",
   "metadata": {},
   "source": [
    "## DBSCAN"
   ]
  },
  {
   "cell_type": "markdown",
   "id": "f98d52d1668fd6d3",
   "metadata": {},
   "source": [
    "Observation:\n",
    "- When ran on raw Mnist:\n",
    "    - It either creates a lot of small clusters (close to number of samples)\n",
    "    - Or collapses everything into few giant clusters classifying everything as a single number or two\n",
    "    - Or just marks everything as noise (when radius is too low)"
   ]
  },
  {
   "cell_type": "code",
   "execution_count": null,
   "id": "4f6b88550f01231c",
   "metadata": {
    "ExecuteTime": {
     "end_time": "2025-05-28T19:24:18.927682Z",
     "start_time": "2025-05-28T19:24:18.924620Z"
    }
   },
   "outputs": [],
   "source": [
    "radius_list = [0.5, 1, 1.5, 2, 2.5, 3, 3.5, 4, 4.5, 5, 5.5, 6]\n",
    "neighbors_list = [2,3,4,5,6,7]\n",
    "save_folder_path = './images'"
   ]
  },
  {
   "cell_type": "code",
   "execution_count": null,
   "id": "def564f61f3787fa",
   "metadata": {},
   "outputs": [],
   "source": [
    "os.mkdir(save_folder_path) if not os.path.exists(save_folder_path) else None\n",
    "lengths = batch_simulation_dbscan(radius_list=radius_list,\n",
    "                                  neighbors_list=neighbors_list,\n",
    "                                  data=train_data,\n",
    "                                  labels=train_labels,\n",
    "                                  folder_path=save_folder_path,\n",
    "                                  appendix=\"_raw_data\",\n",
    "                                  verbose=3)"
   ]
  },
  {
   "cell_type": "markdown",
   "id": "2fc3f0bd1aca6703",
   "metadata": {},
   "source": [
    "### PCA"
   ]
  },
  {
   "cell_type": "markdown",
   "id": "9eee658e",
   "metadata": {},
   "source": [
    "Observation:\n",
    "- Using PCA pre-processing improves DBSCAN accuracy\n",
    "- PCA offers reasonable time to preprocess data, however we will later us t-SNE that gives astounding results but takes a lot of time."
   ]
  },
  {
   "cell_type": "markdown",
   "id": "904c248a",
   "metadata": {},
   "source": [
    "n_components = How any dimensions you wanna keep"
   ]
  },
  {
   "cell_type": "code",
   "execution_count": null,
   "id": "c199c2501a46508e",
   "metadata": {
    "ExecuteTime": {
     "end_time": "2025-05-28T19:39:49.757941Z",
     "start_time": "2025-05-28T19:39:49.754236Z"
    }
   },
   "outputs": [],
   "source": [
    "n_components = 15\n",
    "pca = PCA(n_components).fit(train_data)"
   ]
  },
  {
   "cell_type": "code",
   "execution_count": null,
   "id": "a9f7bf77d472d5b7",
   "metadata": {
    "ExecuteTime": {
     "end_time": "2025-05-28T19:39:51.199736Z",
     "start_time": "2025-05-28T19:39:50.981309Z"
    }
   },
   "outputs": [],
   "source": [
    "X_pca = pca.transform(train_data)"
   ]
  },
  {
   "cell_type": "code",
   "execution_count": null,
   "id": "e71586283c04e70a",
   "metadata": {},
   "outputs": [],
   "source": [
    "os.mkdir(save_folder_path) if not os.path.exists(save_folder_path) else None\n",
    "lengths_pca = batch_simulation_dbscan(radius_list=radius_list,\n",
    "                                      neighbors_list=neighbors_list,\n",
    "                                      data=X_pca,\n",
    "                                      labels=train_labels,\n",
    "                                      folder_path=save_folder_path,\n",
    "                                      appendix=f\"_pca_{n_components}_dim\")"
   ]
  },
  {
   "cell_type": "markdown",
   "id": "52ce92646e34bf2d",
   "metadata": {},
   "source": [
    "### TSNE"
   ]
  },
  {
   "cell_type": "markdown",
   "id": "49644331",
   "metadata": {},
   "source": [
    "Observation:\n",
    "- Using t-SNE greatly improves DBSCAN accuracy\n",
    "- reducing the number of dimensions to just 2 makes it able to reach over 97% of correct predictions"
   ]
  },
  {
   "cell_type": "markdown",
   "id": "88c32c69",
   "metadata": {},
   "source": [
    "n_components = How any dimensions you wanna keep"
   ]
  },
  {
   "cell_type": "code",
   "execution_count": null,
   "id": "6d3bcf1a1c97a960",
   "metadata": {
    "ExecuteTime": {
     "end_time": "2025-05-28T19:54:45.071832Z",
     "start_time": "2025-05-28T19:54:45.067941Z"
    }
   },
   "outputs": [],
   "source": [
    "n_components = 3\n",
    "tsne = TSNE(n_components, random_state=42, verbose=3)"
   ]
  },
  {
   "cell_type": "code",
   "execution_count": null,
   "id": "9ec365a1ab95f025",
   "metadata": {
    "ExecuteTime": {
     "end_time": "2025-05-28T20:04:01.310955Z",
     "start_time": "2025-05-28T19:54:45.073837Z"
    }
   },
   "outputs": [],
   "source": [
    "X_tsne = tsne.fit_transform(train_data)"
   ]
  },
  {
   "cell_type": "code",
   "execution_count": null,
   "id": "821b76538572e502",
   "metadata": {},
   "outputs": [],
   "source": [
    "os.mkdir(save_folder_path) if not os.path.exists(save_folder_path) else None\n",
    "lengths_tsne = batch_simulation_dbscan(radius_list=radius_list,\n",
    "                                      neighbors_list=neighbors_list,\n",
    "                                      data=X_tsne,\n",
    "                                      labels=train_labels,\n",
    "                                      folder_path=save_folder_path,\n",
    "                                      appendix=f\"_tsne_{n_components}_dim\")"
   ]
  },
  {
   "cell_type": "markdown",
   "id": "fc4b03308579b86",
   "metadata": {},
   "source": [
    "### TSNE visualization of the entire MNIST dataset\n",
    "(How does passing MNIST through tSNE changes data shape)"
   ]
  },
  {
   "cell_type": "markdown",
   "id": "d82cac87",
   "metadata": {},
   "source": [
    "n_components = How many dimensions you wanna keep"
   ]
  },
  {
   "cell_type": "code",
   "execution_count": null,
   "id": "f0ce16e5",
   "metadata": {},
   "outputs": [],
   "source": [
    "n_components = 2   # 2D t-SNE for visualization (2 dimensions)"
   ]
  },
  {
   "cell_type": "code",
   "execution_count": null,
   "id": "85e667b7e5dd474d",
   "metadata": {
    "ExecuteTime": {
     "end_time": "2025-05-28T20:05:34.914449Z",
     "start_time": "2025-05-28T20:05:34.909935Z"
    }
   },
   "outputs": [],
   "source": [
    "tsne = TSNE(n_components=n_components, random_state=42, verbose=3)"
   ]
  },
  {
   "cell_type": "code",
   "execution_count": null,
   "id": "7de7858eb662a783",
   "metadata": {
    "ExecuteTime": {
     "end_time": "2025-05-28T20:09:16.107107Z",
     "start_time": "2025-05-28T20:05:34.914449Z"
    }
   },
   "outputs": [],
   "source": [
    "X_reduced = tsne.fit_transform(train_data)"
   ]
  },
  {
   "cell_type": "code",
   "execution_count": null,
   "id": "799d58dfa4f0208a",
   "metadata": {
    "ExecuteTime": {
     "end_time": "2025-05-28T20:09:16.112313Z",
     "start_time": "2025-05-28T20:09:16.107107Z"
    }
   },
   "outputs": [],
   "source": [
    "X_reduced.shape"
   ]
  },
  {
   "cell_type": "code",
   "execution_count": null,
   "id": "25c0e71d19a5e5b",
   "metadata": {
    "ExecuteTime": {
     "end_time": "2025-05-28T20:09:16.117341Z",
     "start_time": "2025-05-28T20:09:16.112313Z"
    }
   },
   "outputs": [],
   "source": [
    "def get_n_colors(n):\n",
    "    colors = []\n",
    "    for i in range(n):\n",
    "        hue = i / n  # evenly spaced hues between 0 and 1\n",
    "        lightness = 0.5\n",
    "        saturation = 0.9\n",
    "        rgb = colorsys.hls_to_rgb(hue, lightness, saturation)\n",
    "        # Convert RGB [0,1] to hex string\n",
    "        colors.append('#{:02x}{:02x}{:02x}'.format(\n",
    "            int(rgb[0]*255), int(rgb[1]*255), int(rgb[2]*255)\n",
    "        ))\n",
    "    return colors\n",
    "\n",
    "colors = get_n_colors(10)"
   ]
  },
  {
   "cell_type": "markdown",
   "id": "134c3cf2",
   "metadata": {},
   "source": [
    "Here we can clearly see why did DBSCAN work so well when we pre-processed MNIST into just 2 dimensions:"
   ]
  },
  {
   "cell_type": "code",
   "execution_count": null,
   "id": "f532de25d3a686c9",
   "metadata": {
    "ExecuteTime": {
     "end_time": "2025-05-28T20:09:16.782654Z",
     "start_time": "2025-05-28T20:09:16.117341Z"
    }
   },
   "outputs": [],
   "source": [
    "plt.figure(figsize=(10,10))\n",
    "for digit in range(10):\n",
    "    idx = train_labels == digit\n",
    "    plt.scatter(X_reduced[idx,0], X_reduced[idx,1], color=colors[digit], label=str(digit), alpha=0.7)\n",
    "plt.legend(title=\"Digit Label\")\n",
    "plt.show()"
   ]
  }
 ],
 "metadata": {
  "kernelspec": {
   "display_name": "venv",
   "language": "python",
   "name": "python3"
  },
  "language_info": {
   "codemirror_mode": {
    "name": "ipython",
    "version": 3
   },
   "file_extension": ".py",
   "mimetype": "text/x-python",
   "name": "python",
   "nbconvert_exporter": "python",
   "pygments_lexer": "ipython3",
   "version": "3.12.3"
  }
 },
 "nbformat": 4,
 "nbformat_minor": 5
}
